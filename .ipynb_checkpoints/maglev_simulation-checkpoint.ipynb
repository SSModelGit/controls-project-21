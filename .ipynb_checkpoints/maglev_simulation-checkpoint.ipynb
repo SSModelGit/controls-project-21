{
 "cells": [
  {
   "cell_type": "code",
   "execution_count": 1,
   "metadata": {},
   "outputs": [],
   "source": [
    "import numpy as np\n",
    "import matplotlib.pyplot as plt\n",
    "import pandas as pd"
   ]
  },
  {
   "cell_type": "code",
   "execution_count": 2,
   "metadata": {},
   "outputs": [],
   "source": [
    "mu0 = 1.257 *10e-6\n",
    "r = 0.01\n",
    "A = np.pi*r**2\n",
    "R = 5 # resistance in ohms\n",
    "N = 10000\n",
    "l = 0.02\n",
    "# L = 0.1\n",
    "L = mu0*(N*l)**2*A/l\n",
    "m = 0.01\n",
    "g = 9.81\n",
    "x0 = 0.085\n",
    "v0 = 5\n",
    "x_stop = 0.005\n",
    "k_he = 1 # Hall effect sensor scaling from B to V\n",
    "\n",
    "n = 10000\n",
    "ts = np.linspace(0, 1, n)\n",
    "dt = ts[1] - ts[0]\n",
    "\n",
    "\n",
    "i = np.zeros(n)\n",
    "i_d = np.zeros(n)\n",
    "v = np.ones(n)*v0\n",
    "x = np.zeros(n)\n",
    "x_d = np.zeros(n)\n",
    "x_dd = np.zeros(n)\n",
    "he_s = np.zeros(n) # Hall Effect Sensor\n",
    "\n",
    "x[0] = x0\n",
    "\n",
    "\n",
    "for j in np.linspace(start = 0,stop = n-2, num = n-1, dtype = int):     \n",
    "    i_d[j] = (v[j] - R*i[j])/L\n",
    "    i[j+1] = i[j] + dt*i_d[j]\n",
    "    F_m = (-4*mu0*N*(r**2)*i[j]**2)/(2*x[j]**4)\n",
    "    B = (mu0*N*(r**2)*i[j])/(2*x[j]**3)\n",
    "    if x[j] <= x_stop:\n",
    "        F_m = 0\n",
    "        x_d[j] = 0\n",
    "        he_s[j] = 0\n",
    "\n",
    "    x_dd[j] = F_m/m + g\n",
    "   \n",
    "    x_d[j+1] = x_d[j] + dt*x_dd[j]\n",
    "    x[j+1] = x[j] + dt*x_d[j]\n",
    "    he_s[j+1] = k_he*B"
   ]
  },
  {
   "cell_type": "code",
   "execution_count": 3,
   "metadata": {},
   "outputs": [
    {
     "data": {
      "text/plain": [
       "[<matplotlib.lines.Line2D at 0x7f54c0833ac0>]"
      ]
     },
     "execution_count": 3,
     "metadata": {},
     "output_type": "execute_result"
    },
    {
     "data": {
      "image/png": "[encoded data removed]",
      "text/plain": [
       "<Figure size 432x288 with 1 Axes>"
      ]
     },
     "metadata": {
      "needs_background": "light"
     },
     "output_type": "display_data"
    }
   ],
   "source": [
    "plt.figure()\n",
    "plt.plot(ts, x)\n"
   ]
  },
  {
   "cell_type": "code",
   "execution_count": 4,
   "metadata": {},
   "outputs": [
    {
     "name": "stdout",
     "output_type": "stream",
     "text": [
      "[   0    1    2 ... 9996 9997 9998]\n"
     ]
    }
   ],
   "source": [
    "print(np.linspace(start = 0,stop = n-2, num = n-1, dtype = int))"
   ]
  }
 ],
 "metadata": {
  "kernelspec": {
   "display_name": "Python 3",
   "language": "python",
   "name": "python3"
  },
  "language_info": {
   "codemirror_mode": {
    "name": "ipython",
    "version": 3
   },
   "file_extension": ".py",
   "mimetype": "text/x-python",
   "name": "python",
   "nbconvert_exporter": "python",
   "pygments_lexer": "ipython3",
   "version": "3.9.2"
  }
 },
 "nbformat": 4,
 "nbformat_minor": 4
}
